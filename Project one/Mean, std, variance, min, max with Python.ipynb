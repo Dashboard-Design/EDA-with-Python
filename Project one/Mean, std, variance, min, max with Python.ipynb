{
 "cells": [
  {
   "cell_type": "code",
   "execution_count": 1,
   "id": "5563b676",
   "metadata": {},
   "outputs": [],
   "source": [
    "import numpy as np"
   ]
  },
  {
   "cell_type": "code",
   "execution_count": 2,
   "id": "581c5d42",
   "metadata": {},
   "outputs": [],
   "source": [
    "def calculate(A):\n",
    "    if len(A) != 9:\n",
    "        raise ValueError('List must contain nine numbers.') \n",
    "    L = ''\n",
    "    for i in range(0,len(A)):\n",
    "         if ((i+1) % 3 == 0) & ((i+1) != 9) :\n",
    "            L = L + '{}; '.format(A[i])\n",
    "         elif i == 8 :\n",
    "            L = L + '{}'.format(A[i])\n",
    "         else:\n",
    "            L = L + '{} '.format(A[i])\n",
    "    \n",
    "    D = np.array(np.mat(L))\n",
    "    \n",
    "    H = {\n",
    "        'mean':[D.mean(axis=0).tolist(), D.mean(axis=1).tolist() , D.mean().tolist() ],\n",
    "        'variance':[D.var(axis=0).tolist(), D.var(axis=1).tolist() , D.var().tolist()],\n",
    "        'standard deviation':[D.std(axis=0).tolist(), D.std(axis=1).tolist() , D.std().tolist()],\n",
    "        'max':[D.max(axis=0).tolist(), D.max(axis=1).tolist() , D.max().tolist() ],\n",
    "        'min':[D.min(axis=0).tolist(), D.min(axis=1).tolist() , D.min().tolist() ],\n",
    "        'sum':[D.sum(axis=0).tolist(), D.sum(axis=1).tolist() , D.sum().tolist() ]\n",
    "        }\n",
    "\n",
    "\n",
    "    return H\n",
    "        \n",
    "        "
   ]
  },
  {
   "cell_type": "code",
   "execution_count": 3,
   "id": "0c98ae31",
   "metadata": {},
   "outputs": [
    {
     "data": {
      "text/plain": [
       "{'mean': [[3.0, 4.0, 5.0], [1.0, 4.0, 7.0], 4.0],\n",
       " 'variance': [[6.0, 6.0, 6.0],\n",
       "  [0.6666666666666666, 0.6666666666666666, 0.6666666666666666],\n",
       "  6.666666666666667],\n",
       " 'standard deviation': [[2.449489742783178,\n",
       "   2.449489742783178,\n",
       "   2.449489742783178],\n",
       "  [0.816496580927726, 0.816496580927726, 0.816496580927726],\n",
       "  2.581988897471611],\n",
       " 'max': [[6, 7, 8], [2, 5, 8], 8],\n",
       " 'min': [[0, 1, 2], [0, 3, 6], 0],\n",
       " 'sum': [[9, 12, 15], [3, 12, 21], 36]}"
      ]
     },
     "execution_count": 3,
     "metadata": {},
     "output_type": "execute_result"
    }
   ],
   "source": [
    "calculate([0,1,2,3,4,5,6,7,8])"
   ]
  },
  {
   "cell_type": "code",
   "execution_count": null,
   "id": "9b899de3",
   "metadata": {},
   "outputs": [],
   "source": []
  }
 ],
 "metadata": {
  "kernelspec": {
   "display_name": "Python 3",
   "language": "python",
   "name": "python3"
  },
  "language_info": {
   "codemirror_mode": {
    "name": "ipython",
    "version": 3
   },
   "file_extension": ".py",
   "mimetype": "text/x-python",
   "name": "python",
   "nbconvert_exporter": "python",
   "pygments_lexer": "ipython3",
   "version": "3.8.8"
  }
 },
 "nbformat": 4,
 "nbformat_minor": 5
}
